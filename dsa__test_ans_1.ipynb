{
  "nbformat": 4,
  "nbformat_minor": 0,
  "metadata": {
    "colab": {
      "provenance": [],
      "authorship_tag": "ABX9TyMMnCyPEzEEicBK0NFmnbXZ",
      "include_colab_link": true
    },
    "kernelspec": {
      "name": "python3",
      "display_name": "Python 3"
    },
    "language_info": {
      "name": "python"
    }
  },
  "cells": [
    {
      "cell_type": "markdown",
      "metadata": {
        "id": "view-in-github",
        "colab_type": "text"
      },
      "source": [
        "<a href=\"https://colab.research.google.com/github/RakeshMishra26mgh/Dsa_test_ans1/blob/main/dsa__test_ans_1.ipynb\" target=\"_parent\"><img src=\"https://colab.research.google.com/assets/colab-badge.svg\" alt=\"Open In Colab\"/></a>"
      ]
    },
    {
      "cell_type": "code",
      "source": [
        "def moveZeroes(nums):\n",
        "    zero = 0\n",
        "    for i in range(len(nums)):\n",
        "        if nums[i] != 0:\n",
        "            nums[i], nums[zero] = nums[zero], nums[i]\n",
        "            zero += 1\n",
        "    return nums\n",
        "\n",
        "user_input = input(\"Enter a list of numbers separated by commas: \")\n",
        "try:\n",
        "    nums = [int(x) for x in user_input.split(\",\")]\n",
        "    if len(nums) == 0 or len(nums) > 10**4:\n",
        "        print(\"Invalid input: list must have at least one and at most 10^4 elements.\")\n",
        "    elif any(x < -2**31 or x > 2**31 - 1 for x in nums):\n",
        "        print(\"Invalid input: elements must be between -2^31 and 2^31 - 1.\")\n",
        "    else:\n",
        "        print(moveZeroes(nums))\n",
        "except ValueError:\n",
        "    print(\"Invalid input: list must contain only integers.\")\n"
      ],
      "metadata": {
        "id": "eQ-ptpKLglAX"
      },
      "execution_count": null,
      "outputs": []
    }
  ]
}